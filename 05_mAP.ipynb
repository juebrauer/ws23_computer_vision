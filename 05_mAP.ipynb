{
 "cells": [
  {
   "cell_type": "markdown",
   "id": "79619122-c998-4830-97aa-b2d5da1f0f04",
   "metadata": {},
   "source": [
    "# Hilfsfunktion, um IoU zu berechnen"
   ]
  },
  {
   "cell_type": "code",
   "execution_count": 1,
   "id": "a01906be-44e4-4115-8471-d38c3e3d2701",
   "metadata": {},
   "outputs": [
    {
     "name": "stdout",
     "output_type": "stream",
     "text": [
      "iou=0.00\n"
     ]
    },
    {
     "data": {
      "image/png": "[encoded data removed]",
      "text/plain": [
       "<Figure size 500x500 with 1 Axes>"
      ]
     },
     "metadata": {},
     "output_type": "display_data"
    }
   ],
   "source": [
    "import matplotlib.pyplot as plt\n",
    "import matplotlib.patches as patches\n",
    "\n",
    "def calculate_iou(box1, box2, visualize=False):\n",
    "\n",
    "    x1_min, y1_min, x1_max, y1_max = box1\n",
    "    x2_min, y2_min, x2_max, y2_max = box2\n",
    "\n",
    "    # \"Intersection Rectangle\" berechnen\n",
    "    i_min_x = max(x1_min, x2_min)\n",
    "    i_min_y = max(y1_min, y2_min)\n",
    "    i_max_x = min(x1_max, x2_max)\n",
    "    i_max_y = min(y1_max, y2_max)\n",
    "\n",
    "    # Seitenlänge des Intersec. Rect. berechnen\n",
    "    i_width  = max(0, i_max_x - i_min_x)\n",
    "    i_height = max(0, i_max_y - i_min_y)\n",
    "\n",
    "    # Fläche des Intersec. Rect. ausrechnen\n",
    "    i_area = i_width * i_height\n",
    "\n",
    "    # Fläche der beiden BBoxen ausrechnen\n",
    "    box1_area = (x1_max - x1_min) * (y1_max - y1_min)\n",
    "    box2_area = (x2_max - x2_min) * (y2_max - y2_min)\n",
    "\n",
    "    # Fläche der Vereinigung (\"Union\") ausrechnen\n",
    "    union_area = box1_area + box2_area - i_area\n",
    "\n",
    "    # Rechne IoU aus\n",
    "    iou = i_area / union_area\n",
    "\n",
    "    if visualize:\n",
    "        f = plt.figure(figsize=(5,5))\n",
    "        ax = f.add_subplot(111)\n",
    "\n",
    "        N = 250\n",
    "        ax.set_xlim(0,N)\n",
    "        ax.set_ylim(0,N)\n",
    "\n",
    "        # Zeichnen box1\n",
    "        ax.add_patch( patches.Rectangle((x1_min,y1_min),\n",
    "                                         x1_max - x1_min,\n",
    "                                         y1_max - y1_min,\n",
    "                                         fill=False,\n",
    "                                         color=\"black\",\n",
    "                                         lw=4\n",
    "                                       ))\n",
    "\n",
    "        # Zeichnen box2\n",
    "        ax.add_patch( patches.Rectangle((x2_min,y2_min),\n",
    "                                         x2_max - x2_min,\n",
    "                                         y2_max - y2_min,\n",
    "                                         fill=False,\n",
    "                                         color=\"red\",\n",
    "                                         lw=4\n",
    "                                       ))\n",
    "\n",
    "        if i_area > 0:\n",
    "\n",
    "            # Zeichne Intersect. Rectangle\n",
    "            ax.add_patch( patches.Rectangle((i_min_x, i_min_y),\n",
    "                                         i_width,\n",
    "                                         i_height,\n",
    "                                         fill=True,\n",
    "                                         color=\"yellow\",\n",
    "                                         lw=1\n",
    "                                       ))\n",
    "        \n",
    "        ax.invert_yaxis()\n",
    "        ax.grid()\n",
    "\n",
    "    return iou\n",
    "\n",
    "box1 = [50,50,150,150]\n",
    "box2 = [200,200,225,225]\n",
    "#box2 = [75,75,200,200]\n",
    "iou = calculate_iou(box1, box2, visualize=True)\n",
    "print(f\"iou={iou:.2f}\")"
   ]
  },
  {
   "cell_type": "markdown",
   "id": "2825c26e-e220-4c0b-b76c-dc8c0cf1ec46",
   "metadata": {},
   "source": [
    "# Ground-Truth Boundingboxen parsen"
   ]
  },
  {
   "cell_type": "code",
   "execution_count": 2,
   "id": "fc290eb8-3ae5-4792-8628-42c54de4756e",
   "metadata": {},
   "outputs": [],
   "source": [
    "def get_gt_bboxes(img_fname):\n",
    "    # 1. Bestimme Name der Annotationsdatei\n",
    "    annotation_fname = img_fname.replace(\"/PNGImages/\", \"/Annotation/\")\n",
    "    annotation_fname = annotation_fname[:-4] + \".txt\"\n",
    "    #print(annotation_fname)\n",
    "\n",
    "    # 2. Annotationsdatei einlesen\n",
    "    datei = open(annotation_fname, \"r\")\n",
    "    lines = datei.readlines()\n",
    "    datei.close()\n",
    "    #print(lines)\n",
    "\n",
    "    # 3. Parsing der Annotationsdaten\n",
    "    bboxes = []\n",
    "    for line in lines:\n",
    "        if line.startswith(\"Bounding box for object\"):\n",
    "            start = line.rfind(\"(\")\n",
    "            end   = line.rfind(\")\")\n",
    "            rb_corner = [  int(s) for s in line[start+1:end].replace(\",\", \"\").split()  ]\n",
    "\n",
    "            line = line[:start]\n",
    "\n",
    "            start = line.rfind(\"(\")\n",
    "            end   = line.rfind(\")\")\n",
    "            tl_corner = [  int(s) for s in line[start+1:end].replace(\",\", \"\").split()  ]\n",
    "\n",
    "            bboxes.append( (tl_corner[0], tl_corner[1], rb_corner[0], rb_corner[1]) ) \n",
    "\n",
    "    return bboxes"
   ]
  },
  {
   "cell_type": "code",
   "execution_count": 49,
   "id": "dc7068da-9965-42a0-a1b9-3d7481bed734",
   "metadata": {},
   "outputs": [
    {
     "data": {
      "text/plain": [
       "[(188, 59, 320, 336), (2, 53, 40, 158)]"
      ]
     },
     "execution_count": 49,
     "metadata": {},
     "output_type": "execute_result"
    }
   ],
   "source": [
    "img_fname = \"/home/juebrauer/link_to_vcd/09_src/central/066_ws23_computer_vision/pedestrian_dataset/PNGImages/FudanPed00005.png\"\n",
    "get_gt_bboxes(img_fname)"
   ]
  },
  {
   "cell_type": "markdown",
   "id": "15a6e34b-223e-43b5-837f-134aa2e22e5c",
   "metadata": {},
   "source": [
    "# Detektion für ein Bild"
   ]
  },
  {
   "cell_type": "code",
   "execution_count": 4,
   "id": "e12368ba-7606-4313-b90b-f255fb73d29f",
   "metadata": {},
   "outputs": [
    {
     "name": "stderr",
     "output_type": "stream",
     "text": [
      "Using cache found in /home/juebrauer/.cache/torch/hub/ultralytics_yolov5_master\n",
      "YOLOv5 🚀 2024-1-8 Python-3.11.5 torch-2.1.0+cu121 CUDA:0 (Quadro P5200 with Max-Q Design, 16273MiB)\n",
      "\n",
      "Fusing layers... \n",
      "YOLOv5s summary: 213 layers, 7225885 parameters, 0 gradients, 16.4 GFLOPs\n",
      "Adding AutoShape... \n"
     ]
    }
   ],
   "source": [
    "import cv2\n",
    "\n",
    "# 1. YOLO-Detektor vorbereiten\n",
    "import torch\n",
    "model = torch.hub.load(\"ultralytics/yolov5\", \"yolov5s\")  # or yolov5n - yolov5x6, custom\n",
    "\n",
    "\n",
    "def compute_precision_and_recall( dt_bboxes, gt_bboxes ):\n",
    "\n",
    "    TP = 0\n",
    "    for gt_bbox in gt_bboxes:\n",
    "        for dt_bbox in dt_bboxes:\n",
    "            iou = calculate_iou(gt_bbox, dt_bbox)\n",
    "            if iou >= 0.5:\n",
    "                TP += 1\n",
    "                break\n",
    "\n",
    "    FN = len(gt_bboxes) - TP\n",
    "    FP = len(dt_bboxes) - TP\n",
    "\n",
    "    if TP+FP != 0:\n",
    "        p = TP/(TP+FP)\n",
    "    else:\n",
    "        p = 0.0\n",
    "\n",
    "    if TP+FN != 0:\n",
    "        r = TP/(TP+FN)\n",
    "    else:\n",
    "        r = 1.0\n",
    "\n",
    "    return p,r\n",
    "    \n",
    "\n",
    "def compute_precision_recall_one_image(img_filename, theta_confidence):\n",
    "\n",
    "    img_bgr = cv2.imread(img_filename)\n",
    "\n",
    "    results = model(img_filename)\n",
    "\n",
    "    search_query = f\"name == 'person' and confidence>={theta_confidence}\"\n",
    "    pedestrians = results.pandas().xyxy[0].query( search_query )\n",
    "\n",
    "    #print(pedestrians)\n",
    "\n",
    "    dt_bboxes = []\n",
    "    for index, row in pedestrians.iterrows():\n",
    "        xmin = int(row[\"xmin\"])\n",
    "        ymin = int(row[\"ymin\"])\n",
    "        xmax = int(row[\"xmax\"])\n",
    "        ymax = int(row[\"ymax\"])\n",
    "        dt_bboxes.append( (xmin,ymin, xmax,ymax) )\n",
    "        \n",
    "    gt_bboxes = get_gt_bboxes(img_filename)\n",
    "\n",
    "    #print(dt_bboxes)\n",
    "    #print(gt_bboxes)\n",
    "\n",
    "    p,r = compute_precision_and_recall( dt_bboxes, gt_bboxes )\n",
    "\n",
    "    return p,r\n",
    "\n",
    "#compute_precision_recall_one_image(img_fname, 0.5)"
   ]
  },
  {
   "cell_type": "markdown",
   "id": "9c5fda38-553e-4593-a2eb-08493c575a96",
   "metadata": {},
   "source": [
    "# Detektion für mehrere Bilder"
   ]
  },
  {
   "cell_type": "code",
   "execution_count": 5,
   "id": "f879455b-d064-4954-bc95-aff402354e6f",
   "metadata": {},
   "outputs": [
    {
     "name": "stdout",
     "output_type": "stream",
     "text": [
      "0.8655555555555555 1.0\n",
      "0.8815277777777778 1.0\n",
      "0.9031613756613756 1.0\n",
      "0.9252876984126985 1.0\n",
      "0.9418968253968254 1.0\n",
      "0.9571362433862433 0.9888888888888889\n",
      "0.8918310657596371 0.8849999999999999\n"
     ]
    }
   ],
   "source": [
    "import numpy as np\n",
    "\n",
    "import os\n",
    "dataset_dir = \"pedestrian_dataset\"\n",
    "list_of_image_files = os.listdir(dataset_dir + \"/PNGImages\")\n",
    "\n",
    "prec_recall_curve = {}\n",
    "\n",
    "ps = []\n",
    "rs = []\n",
    "for theta_confidence in np.arange(0.3, 1.0, 0.1):\n",
    "    for i in range(10):\n",
    "        img_fname = dataset_dir + \"/PNGImages/\" + list_of_image_files[i]\n",
    "        p,r = compute_precision_recall_one_image(img_fname, theta_confidence)\n",
    "        ps.append(p)\n",
    "        rs.append(r)\n",
    "    #print(ps)\n",
    "    #print(rs)\n",
    "\n",
    "    p = np.mean(ps)\n",
    "    r = np.mean(rs)\n",
    "    print(p,r)\n",
    "\n",
    "    prec_recall_curve[theta_confidence] = (p,r)"
   ]
  },
  {
   "cell_type": "code",
   "execution_count": 6,
   "id": "63e387fc-3df9-4bee-84e4-892d16217818",
   "metadata": {},
   "outputs": [
    {
     "data": {
      "text/plain": [
       "{0.3: (0.8655555555555555, 1.0),\n",
       " 0.4: (0.8815277777777778, 1.0),\n",
       " 0.5: (0.9031613756613756, 1.0),\n",
       " 0.6000000000000001: (0.9252876984126985, 1.0),\n",
       " 0.7000000000000002: (0.9418968253968254, 1.0),\n",
       " 0.8000000000000003: (0.9571362433862433, 0.9888888888888889),\n",
       " 0.9000000000000001: (0.8918310657596371, 0.8849999999999999)}"
      ]
     },
     "execution_count": 6,
     "metadata": {},
     "output_type": "execute_result"
    }
   ],
   "source": [
    "prec_recall_curve"
   ]
  },
  {
   "cell_type": "code",
   "execution_count": 10,
   "id": "0146e3fd-e428-42e9-b0b0-9e4c1da7cb5f",
   "metadata": {},
   "outputs": [
    {
     "data": {
      "image/png": "[encoded data removed]",
      "text/plain": [
       "<Figure size 640x480 with 1 Axes>"
      ]
     },
     "metadata": {},
     "output_type": "display_data"
    }
   ],
   "source": [
    "%matplotlib inline\n",
    "\n",
    "import matplotlib.pyplot as plt\n",
    "\n",
    "ps = []\n",
    "rs = []\n",
    "for k in prec_recall_curve:\n",
    "    p, r = prec_recall_curve[k]\n",
    "    ps.append(p)\n",
    "    rs.append(r)\n",
    "\n",
    "plt.figure()\n",
    "plt.scatter(rs,ps)\n",
    "plt.show()"
   ]
  },
  {
   "cell_type": "code",
   "execution_count": null,
   "id": "8302a2b2-cf50-4cb9-b16f-8a5b6a31ef7e",
   "metadata": {},
   "outputs": [],
   "source": []
  }
 ],
 "metadata": {
  "kernelspec": {
   "display_name": "Python 3 (ipykernel)",
   "language": "python",
   "name": "python3"
  },
  "language_info": {
   "codemirror_mode": {
    "name": "ipython",
    "version": 3
   },
   "file_extension": ".py",
   "mimetype": "text/x-python",
   "name": "python",
   "nbconvert_exporter": "python",
   "pygments_lexer": "ipython3",
   "version": "3.11.5"
  }
 },
 "nbformat": 4,
 "nbformat_minor": 5
}
