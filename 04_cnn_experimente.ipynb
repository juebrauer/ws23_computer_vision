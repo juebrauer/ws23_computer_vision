{
 "cells": [
  {
   "cell_type": "code",
   "execution_count": 1,
   "id": "5bde12a3-eed9-40ef-9565-5d46d5298c71",
   "metadata": {},
   "outputs": [
    {
     "name": "stdout",
     "output_type": "stream",
     "text": [
      "Ich lade das Modul tsclassifier ein!\n",
      "Trainingsepoche #1 / 25 startet.\n",
      "\tBatch #250 / 1226\n",
      "\tBatch #500 / 1226\n",
      "\tBatch #750 / 1226\n",
      "\tBatch #1000 / 1226\n"
     ]
    },
    {
     "ename": "NameError",
     "evalue": "name 'test_loade' is not defined",
     "output_type": "error",
     "traceback": [
      "\u001b[0;31m---------------------------------------------------------------------------\u001b[0m",
      "\u001b[0;31mNameError\u001b[0m                                 Traceback (most recent call last)",
      "Cell \u001b[0;32mIn[1], line 14\u001b[0m\n\u001b[1;32m     11\u001b[0m train_loader, test_loader \u001b[38;5;241m=\u001b[39m tsclassifier\u001b[38;5;241m.\u001b[39mget_data_loaders()\n\u001b[1;32m     13\u001b[0m \u001b[38;5;66;03m# 4. Trainiere das CNN\u001b[39;00m\n\u001b[0;32m---> 14\u001b[0m accs \u001b[38;5;241m=\u001b[39m \u001b[43mtsclassifier\u001b[49m\u001b[38;5;241;43m.\u001b[39;49m\u001b[43mtrain_model\u001b[49m\u001b[43m(\u001b[49m\u001b[43mmodel\u001b[49m\u001b[43m,\u001b[49m\u001b[43m \u001b[49m\u001b[43mdevice\u001b[49m\u001b[43m,\u001b[49m\u001b[43m \u001b[49m\u001b[38;5;241;43m25\u001b[39;49m\u001b[43m,\u001b[49m\u001b[43m \u001b[49m\u001b[43mtrain_loader\u001b[49m\u001b[43m,\u001b[49m\u001b[43m \u001b[49m\u001b[43mtest_loader\u001b[49m\u001b[43m)\u001b[49m\n",
      "File \u001b[0;32m/media/veracrypt1/09_src/central/066_ws23_computer_vision/tsclassifier.py:136\u001b[0m, in \u001b[0;36mtrain_model\u001b[0;34m(model, device, num_epochs, train_loader, test_loader)\u001b[0m\n\u001b[1;32m    133\u001b[0m pickle\u001b[38;5;241m.\u001b[39mdump(model, datei)\n\u001b[1;32m    134\u001b[0m datei\u001b[38;5;241m.\u001b[39mclose()\n\u001b[0;32m--> 136\u001b[0m acc \u001b[38;5;241m=\u001b[39m test_model(model, \u001b[43mtest_loade\u001b[49m, device)\n\u001b[1;32m    137\u001b[0m accs\u001b[38;5;241m.\u001b[39mappend( acc )\n\u001b[1;32m    139\u001b[0m \u001b[38;5;28mprint\u001b[39m(\u001b[38;5;124mf\u001b[39m\u001b[38;5;124m\"\u001b[39m\u001b[38;5;124mTrainingsepoche #\u001b[39m\u001b[38;5;132;01m{\u001b[39;00mepoch\u001b[38;5;132;01m}\u001b[39;00m\u001b[38;5;124m / \u001b[39m\u001b[38;5;132;01m{\u001b[39;00mnum_epochs\u001b[38;5;132;01m}\u001b[39;00m\u001b[38;5;124m:\u001b[39m\u001b[38;5;124m\"\u001b[39m)\n",
      "\u001b[0;31mNameError\u001b[0m: name 'test_loade' is not defined"
     ]
    }
   ],
   "source": [
    "import tsclassifier\n",
    "\n",
    "# 1. Bestimme, ob wir auf der GPU oder CPU arbeiten\n",
    "import torch\n",
    "device = torch.device(\"cuda\" if torch.cuda.is_available else \"cpu\")\n",
    "\n",
    "# 2. Erzeuge ein CNN und schiebe es auf das Device\n",
    "model = tsclassifier.CNN4TSRecognition().to(device)\n",
    "\n",
    "# 3. Bereite Trainings- und Testdaten vor\n",
    "train_loader, test_loader = tsclassifier.get_data_loaders()\n",
    "\n",
    "# 4. Trainiere das CNN\n",
    "accs = tsclassifier.train_model(model, device, 25, train_loader, test_loader)"
   ]
  },
  {
   "cell_type": "code",
   "execution_count": null,
   "id": "f4d4406b-5513-46b5-a456-7e61cf9536dd",
   "metadata": {},
   "outputs": [],
   "source": []
  }
 ],
 "metadata": {
  "kernelspec": {
   "display_name": "Python 3 (ipykernel)",
   "language": "python",
   "name": "python3"
  },
  "language_info": {
   "codemirror_mode": {
    "name": "ipython",
    "version": 3
   },
   "file_extension": ".py",
   "mimetype": "text/x-python",
   "name": "python",
   "nbconvert_exporter": "python",
   "pygments_lexer": "ipython3",
   "version": "3.11.5"
  }
 },
 "nbformat": 4,
 "nbformat_minor": 5
}
